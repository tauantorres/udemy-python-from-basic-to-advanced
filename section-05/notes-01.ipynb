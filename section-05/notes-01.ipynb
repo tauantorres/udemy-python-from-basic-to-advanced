{
 "cells": [
  {
   "cell_type": "markdown",
   "metadata": {},
   "source": [
    "## `OOP Introduction`:\n",
    " "
   ]
  },
  {
   "cell_type": "code",
   "execution_count": 5,
   "metadata": {},
   "outputs": [
    {
     "name": "stdout",
     "output_type": "stream",
     "text": [
      "João\n",
      "Silva\n"
     ]
    }
   ],
   "source": [
    "class Pessoa():\n",
    "    def __init__(self, nome, sobrenome):\n",
    "        self.nome = nome\n",
    "        self.sobrenome = sobrenome\n",
    "\n",
    "\n",
    "pessoa = Pessoa('João', 'Silva')\n",
    "\n",
    "print(pessoa.nome)\n",
    "print(pessoa.sobrenome)\n"
   ]
  },
  {
   "cell_type": "code",
   "execution_count": 7,
   "metadata": {},
   "outputs": [
    {
     "name": "stdout",
     "output_type": "stream",
     "text": [
      "{'nome': 'Tauan', 'sobrenome': 'Torres'}\n",
      "{'nome': 'Tauan', 'sobrenome': 'Torres'}\n"
     ]
    }
   ],
   "source": [
    "dados = {'nome': 'Tauan', 'sobrenome': 'Torres'}\n",
    "\n",
    "pessoa = Pessoa(**dados)\n",
    "\n",
    "print(vars(pessoa))\n",
    "print(pessoa.__dict__)"
   ]
  },
  {
   "cell_type": "code",
   "execution_count": 11,
   "metadata": {},
   "outputs": [
    {
     "name": "stdout",
     "output_type": "stream",
     "text": [
      "{'nome': 'Tauan', 'sobrenome': 'Torres'}\n",
      "{'nome': 'Kristina', 'sobrenome': 'Torres'}\n"
     ]
    }
   ],
   "source": [
    "tauan = dict(nome='Tauan', sobrenome='Torres')\n",
    "kristina = dict(nome='Kristina', sobrenome='Torres')\n",
    "\n",
    "pessoaTauan = Pessoa(**tauan)\n",
    "pessoaKristina = Pessoa(**kristina)\n",
    "\n",
    "print(vars(pessoaTauan))\n",
    "print(vars(pessoaKristina))\n",
    "\n",
    "DB = [pessoaKristina, pessoaTauan]\n"
   ]
  },
  {
   "cell_type": "code",
   "execution_count": 13,
   "metadata": {},
   "outputs": [],
   "source": [
    "import json\n",
    "\n",
    "PATH = 'pessoas.json'\n",
    "\n",
    "with open(PATH, 'w') as file:\n",
    "    json.dump(DB, file, ensure_ascii=False, indent=2, default=lambda x: x.__dict__)\n"
   ]
  },
  {
   "cell_type": "code",
   "execution_count": 16,
   "metadata": {},
   "outputs": [],
   "source": [
    "with open(PATH, 'r') as file:\n",
    "    pessoas = json.load(file)"
   ]
  },
  {
   "cell_type": "code",
   "execution_count": 22,
   "metadata": {},
   "outputs": [
    {
     "name": "stdout",
     "output_type": "stream",
     "text": [
      "{'nome': 'Kristina', 'sobrenome': 'Torres'}\n",
      "{'nome': 'Tauan', 'sobrenome': 'Torres'}\n"
     ]
    }
   ],
   "source": [
    "DB_RETRIVED = [Pessoa(**pessoa) for pessoa in pessoas]\n",
    "\n",
    "for pessoa in DB_RETRIVED:\n",
    "    print(pessoa.__dict__) "
   ]
  },
  {
   "cell_type": "code",
   "execution_count": 32,
   "metadata": {},
   "outputs": [],
   "source": [
    "def save_json(PATH, DB):\n",
    "    with open(PATH, 'w') as file:\n",
    "        json.dump(DB, file, ensure_ascii=False, indent=2, default=lambda x: x.__dict__)\n",
    "    print('Arquivo salvo com sucesso!')\n",
    "\n",
    "def load_json(PATH):\n",
    "    with open(PATH, 'r') as file:\n",
    "        pessoas = json.load(file)\n",
    "    print('Arquivo carregado com sucesso!')\n",
    "    return [Pessoa(**pessoa) for pessoa in pessoas]\n",
    "\n",
    "def show_pessoas(DB):\n",
    "    for pessoa in DB:\n",
    "        print(pessoa.__dict__)"
   ]
  },
  {
   "cell_type": "code",
   "execution_count": 34,
   "metadata": {},
   "outputs": [
    {
     "name": "stdout",
     "output_type": "stream",
     "text": [
      "{'nome': 'Kristina', 'sobrenome': 'Torres'}\n",
      "{'nome': 'Tauan', 'sobrenome': 'Torres'}\n",
      "{'nome': 'Pandora', 'sobrenome': 'Torres'}\n",
      "Arquivo salvo com sucesso!\n",
      "Arquivo carregado com sucesso!\n",
      "{'nome': 'Kristina', 'sobrenome': 'Torres'}\n",
      "{'nome': 'Tauan', 'sobrenome': 'Torres'}\n",
      "{'nome': 'Pandora', 'sobrenome': 'Torres'}\n"
     ]
    }
   ],
   "source": [
    "tauan = dict(nome='Tauan', sobrenome='Torres')\n",
    "kristina = dict(nome='Kristina', sobrenome='Torres')\n",
    "\n",
    "pessoaTauan = Pessoa(**tauan)\n",
    "pessoaKristina = Pessoa(**kristina)\n",
    "pessoaPandora = Pessoa('Pandora', 'Torres')\n",
    "\n",
    "DB = [pessoaKristina, pessoaTauan, pessoaPandora]\n",
    "show_pessoas(DB)\n",
    "\n",
    "save_json('pessoas.json', DB)\n",
    "\n",
    "DB_RETRIVED = load_json('pessoas.json')\n",
    "show_pessoas(DB_RETRIVED)\n"
   ]
  },
  {
   "cell_type": "markdown",
   "metadata": {},
   "source": [
    "## `@classmethod`:"
   ]
  },
  {
   "cell_type": "code",
   "execution_count": 36,
   "metadata": {},
   "outputs": [
    {
     "name": "stdout",
     "output_type": "stream",
     "text": [
      "{'nome': 'Tauan', 'sobrenome': 'Torres'}\n",
      "{'nome': 'Sem nome', 'sobrenome': 'Torres'}\n",
      "{'nome': 'Kristina', 'sobrenome': 'Sem sobrenome'}\n"
     ]
    }
   ],
   "source": [
    "class Pessoa():\n",
    "    def __init__(self, nome, sobrenome):\n",
    "        self.nome = nome\n",
    "        self.sobrenome = sobrenome\n",
    "\n",
    "    @classmethod\n",
    "    def metodo_da_classe(cls):\n",
    "        print('Método da classe')\n",
    "\n",
    "    @classmethod\n",
    "    def no_name(cls, sobrenome):\n",
    "        return cls('Sem nome', sobrenome)\n",
    "    \n",
    "    @classmethod\n",
    "    def no_sobre_nome(cls, nome):\n",
    "        return cls(nome, 'Sem sobrenome')\n",
    "    \n",
    "\n",
    "tauan = Pessoa('Tauan', 'Torres')\n",
    "pandora = Pessoa.no_name('Torres')\n",
    "sem_sobrenome = Pessoa.no_sobre_nome('Kristina')\n",
    "\n",
    "print(vars(tauan))\n",
    "print(vars(pandora))\n",
    "print(vars(sem_sobrenome))"
   ]
  },
  {
   "cell_type": "code",
   "execution_count": 49,
   "metadata": {},
   "outputs": [
    {
     "name": "stdout",
     "output_type": "stream",
     "text": [
      "Sum:  15\n",
      "args: (1, 2, 3, 4, 5)\n",
      "kwargs: {'nome': 'Tauan', 'sobrenome': 'Torres'}\n"
     ]
    }
   ],
   "source": [
    "class Operadores():\n",
    "\n",
    "    @staticmethod\n",
    "    def soma(args):\n",
    "        print('Sum: ', sum(args)) \n",
    "    \n",
    "    @staticmethod\n",
    "    def show( *args, **kwargs):\n",
    "        print('args:', args)\n",
    "        print('kwargs:', kwargs)\n",
    "    \n",
    "tool = Operadores()\n",
    "dados = {'nome': 'Tauan', 'sobrenome': 'Torres'}\n",
    "\n",
    "tool.soma([1, 2, 3, 4, 5])\n",
    "tool.show(1, 2, 3, 4, 5, **dados)\n"
   ]
  },
  {
   "cell_type": "code",
   "execution_count": 59,
   "metadata": {},
   "outputs": [
    {
     "name": "stdout",
     "output_type": "stream",
     "text": [
      "Log: User setted\n",
      "Log: Password setted\n",
      "Log: Connection created\n",
      "{'host': 'localhost', 'user': 'tauan', 'password': '123456'}\n"
     ]
    }
   ],
   "source": [
    "class Connection():\n",
    "\n",
    "    def __init__(self, host='localhost'):\n",
    "        self.host = host\n",
    "        self.user = None\n",
    "        self.password = None\n",
    "\n",
    "    def set_user(self, user):\n",
    "        self.user = user\n",
    "        self.log('User setted')\n",
    "    \n",
    "    def set_password(self, password):\n",
    "        self.password = password\n",
    "        self.log('Password setted')\n",
    "\n",
    "    def set_params(self, user, password):\n",
    "        self.set_user(user)\n",
    "        self.set_password(password)\n",
    "\n",
    "    @classmethod\n",
    "    def create_with_auth(cls, user, password):\n",
    "        connections = cls()\n",
    "        connections.set_params(user, password)\n",
    "        cls.log('Connection created')\n",
    "        return connections\n",
    "    \n",
    "    @staticmethod\n",
    "    def log(msg):\n",
    "        print('Log:', msg)\n",
    "\n",
    "\n",
    "connection = Connection.create_with_auth('tauan', '123456')\n",
    "print(vars(connection))"
   ]
  },
  {
   "cell_type": "markdown",
   "metadata": {},
   "source": [
    "## `@property`:\n",
    " "
   ]
  },
  {
   "cell_type": "code",
   "execution_count": 63,
   "metadata": {},
   "outputs": [
    {
     "name": "stdout",
     "output_type": "stream",
     "text": [
      "Azul\n"
     ]
    }
   ],
   "source": [
    "class Caneta:\n",
    "    \n",
    "    def __init__(self, cor):\n",
    "        self.__cor = cor\n",
    "\n",
    "    def get_cor(self):\n",
    "        return self.__cor\n",
    "    \n",
    "caneta = Caneta('Azul')\n",
    "print(caneta.get_cor())\n"
   ]
  },
  {
   "cell_type": "code",
   "execution_count": 74,
   "metadata": {},
   "outputs": [
    {
     "name": "stdout",
     "output_type": "stream",
     "text": [
      "Cor da tinta: Azul\n"
     ]
    }
   ],
   "source": [
    "class Caneta:\n",
    "    def __init__(self, cor):\n",
    "        self.cor_tinta = cor\n",
    "\n",
    "    @property\n",
    "    def cor(self):\n",
    "        return self.cor_tinta\n",
    "    \n",
    "caneta = Caneta('Azul')\n",
    "print('Cor da tinta:', caneta.cor)"
   ]
  },
  {
   "cell_type": "markdown",
   "metadata": {},
   "source": [
    "### `@property.setter`"
   ]
  },
  {
   "cell_type": "code",
   "execution_count": 88,
   "metadata": {},
   "outputs": [
    {
     "name": "stdout",
     "output_type": "stream",
     "text": [
      "Cor da tinta: Azul\n",
      "Cor da tinta: Vermelho\n",
      "--------------------------------------------------\n",
      "Cor da tampa: None\n",
      "Cor da tampa: Verde\n"
     ]
    }
   ],
   "source": [
    "class Caneta:\n",
    "\n",
    "    def __init__(self, cor):\n",
    "        self._cor = cor # Protected\n",
    "        self._cor_tampa = None # Protected\n",
    "\n",
    "    @property\n",
    "    def cor(self):\n",
    "        return self._cor\n",
    "    \n",
    "    @cor.setter\n",
    "    def cor(self, cor):\n",
    "        self._cor = cor\n",
    "\n",
    "    @property\n",
    "    def cor_tampa(self):\n",
    "        return self._cor_tampa\n",
    "    \n",
    "    @cor_tampa.setter\n",
    "    def cor_tampa(self, cor):\n",
    "        self._cor_tampa = cor\n",
    "\n",
    "caneta = Caneta('Azul')\n",
    "print('Cor da tinta:', caneta.cor)\n",
    "\n",
    "caneta.cor = 'Vermelho'\n",
    "print('Cor da tinta:', caneta.cor)\n",
    "\n",
    "print(\"-\" * 50)\n",
    "\n",
    "print('Cor da tampa:', caneta.cor_tampa)\n",
    "\n",
    "caneta.cor_tampa = 'Verde'\n",
    "print('Cor da tampa:', caneta.cor_tampa)\n",
    "\n"
   ]
  },
  {
   "cell_type": "markdown",
   "metadata": {},
   "source": [
    "## `EMCAPSULAMENTO`:\n"
   ]
  },
  {
   "cell_type": "code",
   "execution_count": 97,
   "metadata": {},
   "outputs": [
    {
     "name": "stdout",
     "output_type": "stream",
     "text": [
      "Public attribute\n",
      "Protected attribute\n",
      "--------------------------------------------------\n",
      "public_method\n",
      "_protected_method\n"
     ]
    }
   ],
   "source": [
    "class Foo:\n",
    "    def __init__(self):\n",
    "        self.public = \"Public attribute\"\n",
    "        self._protected = \"Protected attribute\"\n",
    "        self.__private = \"Private attribute\"\n",
    "\n",
    "    def public_method(self):\n",
    "        return \"public_method\"\n",
    "    \n",
    "    def _protected_method(self):\n",
    "        return \"_protected_method\"\n",
    "    \n",
    "    def __private_method(self):\n",
    "        return \"__private_method\"\n",
    "    \n",
    "foo = Foo()\n",
    "\n",
    "print(foo.public)\n",
    "print(foo._protected)   \n",
    "\n",
    "print(\"-\" * 50)\n",
    "\n",
    "print(foo.public_method())\n",
    "print(foo._protected_method())\n"
   ]
  },
  {
   "cell_type": "code",
   "execution_count": 100,
   "metadata": {},
   "outputs": [
    {
     "name": "stdout",
     "output_type": "stream",
     "text": [
      "Public attribute public_method\n",
      "Protected attribute _protected_method\n",
      "Private attribute __private_method\n"
     ]
    }
   ],
   "source": [
    "class Foo:\n",
    "    def __init__(self):\n",
    "        self.public = \"Public attribute\"\n",
    "        self._protected = \"Protected attribute\"\n",
    "        self.__private = \"Private attribute\"\n",
    "\n",
    "    def public_method(self):\n",
    "        return \"public_method\"\n",
    "    \n",
    "    def _protected_method(self):\n",
    "        return \"_protected_method\"\n",
    "    \n",
    "    def __private_method(self):\n",
    "        return \"__private_method\"\n",
    "    \n",
    "    def to_show_public(self):\n",
    "        print(self.public, self.public_method())\n",
    "\n",
    "    def to_show_protected(self):\n",
    "        print(self._protected, self._protected_method())\n",
    "\n",
    "    def to_show_private(self):\n",
    "        print(self.__private, self.__private_method())\n",
    "    \n",
    "foo = Foo()\n",
    "\n",
    "foo.to_show_public()\n",
    "foo.to_show_protected()\n",
    "foo.to_show_private()"
   ]
  },
  {
   "cell_type": "markdown",
   "metadata": {},
   "source": [
    "## `Association`:"
   ]
  },
  {
   "cell_type": "code",
   "execution_count": 110,
   "metadata": {},
   "outputs": [
    {
     "name": "stdout",
     "output_type": "stream",
     "text": [
      "Tauan está lendo o livro Python\n",
      "Tauan está lendo o livro Java\n"
     ]
    }
   ],
   "source": [
    "class Leitor:\n",
    "\n",
    "    def __init__(self, nome):\n",
    "        self.nome = nome\n",
    "        self._livro = None\n",
    "\n",
    "    @property\n",
    "    def livro(self):\n",
    "        return self._livro\n",
    "    \n",
    "    @livro.setter\n",
    "    def livro(self, livro):\n",
    "        self._livro = livro\n",
    "\n",
    "    def ler(self, livro):\n",
    "        self.livro = livro\n",
    "        print(f'{self.nome} está lendo o livro {livro.titulo}')\n",
    "\n",
    "class Livro:\n",
    "\n",
    "    def __init__(self, titulo):\n",
    "        self.titulo = titulo\n",
    "\n",
    "\n",
    "leitor = Leitor('Tauan')\n",
    "livro = Livro('Python')\n",
    "\n",
    "leitor.ler(livro)\n",
    "\n",
    "livro.titulo = 'Java'\n",
    "leitor.ler(livro)\n"
   ]
  },
  {
   "cell_type": "markdown",
   "metadata": {},
   "source": [
    "## `Agregation`:\n"
   ]
  },
  {
   "cell_type": "code",
   "execution_count": 151,
   "metadata": {},
   "outputs": [],
   "source": [
    "class Carrinho:\n",
    "\n",
    "    def __init__(self):\n",
    "        self._produtos = []\n",
    "\n",
    "    def add_produtos(self, *produtos):\n",
    "        self._produtos.extend(produtos)\n",
    "        self.log('Produtos adicionados')\n",
    "\n",
    "    def listar_produtos(self):\n",
    "        for produto in self._produtos:\n",
    "            print(f\"Produto: {produto.name} - Preço: ${produto.price:.2f}\")\n",
    "\n",
    "    def total_price(self):\n",
    "        return sum([p.price for p in self._produtos])\n",
    "    \n",
    "    @staticmethod\n",
    "    def log(msg):\n",
    "        print('[Log]:', msg)\n",
    "    \n",
    "class Produto:\n",
    "    \n",
    "    def __init__(self, name, price):\n",
    "        self.name = name\n",
    "        self.price = price\n",
    "            \n"
   ]
  },
  {
   "cell_type": "code",
   "execution_count": 153,
   "metadata": {},
   "outputs": [
    {
     "name": "stdout",
     "output_type": "stream",
     "text": [
      "[Log]: Produtos adicionados\n",
      "Produto: Banana - Preço: $1.20\n",
      "Produto: Melancia - Preço: $2.00\n",
      "Total: $3.20\n"
     ]
    }
   ],
   "source": [
    "carrinho = Carrinho()\n",
    "p1, p2 = Produto(name=\"Banana\", price=1.2), Produto(name=\"Melancia\", price=2)\n",
    "\n",
    "carrinho.add_produtos(p1, p2)\n",
    "carrinho.listar_produtos()\n",
    "print(f'Total: ${carrinho.total_price():.2f}')\n",
    "\n"
   ]
  },
  {
   "cell_type": "markdown",
   "metadata": {},
   "source": [
    "## `Composition`:\n"
   ]
  },
  {
   "cell_type": "code",
   "execution_count": 209,
   "metadata": {},
   "outputs": [],
   "source": [
    "class Cliente:\n",
    "\n",
    "    def __init__(self, nome):\n",
    "        self.nome = nome\n",
    "        self.endereco = []\n",
    "\n",
    "        self.log(f'[\\033[32mSUCESSO\\033[0m] Cliente {nome} criado')\n",
    "\n",
    "    def add_endereco(self, rua, numero):\n",
    "        self.endereco.append(Endereco(rua, numero))\n",
    "        self.log(f'[\\033[32mSUCESSO\\033[0m] Endereço {rua} e {numero} adicionado')\n",
    "\n",
    "    def add_endereco_externo(self, endereco):\n",
    "        self.endereco.append(endereco)\n",
    "        self.log(f'[\\033[32mSUCESSO\\033[0m] Endereço {endereco.rua} e {endereco.numero} adicionado')\n",
    "\n",
    "    def listar_enderecos(self):\n",
    "        print(\"Lista de endereços: \")\n",
    "        for endereco in self.endereco:\n",
    "            print(f\"\\t=>Rua: {endereco.rua} - Número: {endereco.numero}\")\n",
    "            \n",
    "    @staticmethod\n",
    "    def log(msg):\n",
    "        print('[Log]:', msg)\n",
    "\n",
    "    def __del__(self):\n",
    "        print(f'[\\033[31mAPAGANDO\\033[0m] Cliente {self.nome} foi deletado')\n",
    "\n",
    "class Endereco:\n",
    "    \n",
    "    def __init__(self, rua, numero):\n",
    "        self.rua = rua\n",
    "        self.numero = numero\n",
    "\n",
    "    def __del__(self):\n",
    "        print(f'[\\033[31mAPAGANDO\\033[0m] Endereço {self.rua}, {self.numero} foi deletado')\n",
    "\n"
   ]
  },
  {
   "cell_type": "code",
   "execution_count": 210,
   "metadata": {},
   "outputs": [
    {
     "name": "stdout",
     "output_type": "stream",
     "text": [
      "[Log]: [\u001b[32mSUCESSO\u001b[0m] Cliente Tauan criado\n",
      "[Log]: [\u001b[32mSUCESSO\u001b[0m] Endereço Rua 1 e 123 adicionado\n",
      "[Log]: [\u001b[32mSUCESSO\u001b[0m] Endereço Rua 2 e 456 adicionado\n",
      "Lista de endereços: \n",
      "\t=>Rua: Rua 1 - Número: 123\n",
      "\t=>Rua: Rua 2 - Número: 456\n",
      "[Log]: [\u001b[32mSUCESSO\u001b[0m] Endereço Rua 999 e 999 adicionado\n",
      "Lista de endereços: \n",
      "\t=>Rua: Rua 1 - Número: 123\n",
      "\t=>Rua: Rua 2 - Número: 456\n",
      "\t=>Rua: Rua 999 - Número: 999\n",
      "[\u001b[31mAPAGANDO\u001b[0m] Cliente Tauan foi deletado\n",
      "[\u001b[31mAPAGANDO\u001b[0m] Endereço Rua 2, 456 foi deletado\n",
      "[\u001b[31mAPAGANDO\u001b[0m] Endereço Rua 1, 123 foi deletado\n",
      "------------------------------  END  ------------------------------\n",
      "[\u001b[31mAPAGANDO\u001b[0m] Endereço Rua 999, 999 foi deletado\n"
     ]
    }
   ],
   "source": [
    "cliente = Cliente('Tauan')\n",
    "\n",
    "cliente.add_endereco('Rua 1', 123)\n",
    "cliente.add_endereco('Rua 2', 456)\n",
    "cliente.listar_enderecos()\n",
    "\n",
    "endereco = Endereco('Rua 999', 999)\n",
    "cliente.add_endereco_externo(endereco)\n",
    "cliente.listar_enderecos()\n",
    "\n",
    "del cliente\n",
    "print(\"-\" * 30, ' END ', \"-\" * 30)\n",
    "\n",
    "del endereco\n"
   ]
  },
  {
   "cell_type": "markdown",
   "metadata": {},
   "source": [
    "## `Exercício com classes`"
   ]
  },
  {
   "cell_type": "raw",
   "metadata": {},
   "source": [
    "Fabricante [1] ---> [n] Carro [n] <--- [1] Motor"
   ]
  },
  {
   "cell_type": "code",
   "execution_count": 199,
   "metadata": {},
   "outputs": [],
   "source": [
    "# Exercício com classes\n",
    "# PART 1:\n",
    "# 1 - Crie uma classe Carro (Nome)\n",
    "# 2 - Crie uma classe Motor (Nome)\n",
    "# 3 - Crie uma classe Fabricante (Nome)\n",
    "# Obs.: Um motor pode ser de vários carros\n",
    "# Obs.: Um fabricante pode fabricar vários carros\n",
    "\n",
    "# PART 2:\n",
    "# 4 - Faça a ligação entre Carro tem um Motor\n",
    "# 5 - Faça a ligação entre Carro e um Fabricante\n",
    "\n",
    "# PART 3:\n",
    "#   6 - Exiba o nome do carro, motor e fabricante na tela\n",
    "\n",
    "class Carro:\n",
    "\n",
    "    def __init__(self, nome):\n",
    "        self.nome = nome\n",
    "        self._motor = None\n",
    "        self._fabricante = None\n",
    "\n",
    "    @property\n",
    "    def motor(self):\n",
    "        return self._motor\n",
    "    \n",
    "    @motor.setter\n",
    "    def motor(self, motor):\n",
    "        self._motor = motor\n",
    "\n",
    "    @property\n",
    "    def fabricante(self):\n",
    "        return self._fabricante\n",
    "    \n",
    "    @fabricante.setter\n",
    "    def fabricante(self, fabricante):\n",
    "        self._fabricante = fabricante\n",
    "\n",
    "    def show(self):\n",
    "        print(f'Carro: [\\033[32m{self.nome}\\033[0m]')\n",
    "        print(f\"Motor: [\\033[33m{self._motor.nome}\\033[0m]\")\n",
    "        print(f\"Fabri: [\\033[34m{self._fabricante.nome}\\033[0m]\")\n",
    "\n",
    "class Motor:\n",
    "    def __init__(self, nome):\n",
    "        self.nome = nome\n",
    "\n",
    "class Fabricante:\n",
    "    def __init__(self, nome):\n",
    "        self.nome = nome\n",
    "\n"
   ]
  },
  {
   "cell_type": "code",
   "execution_count": 200,
   "metadata": {},
   "outputs": [
    {
     "name": "stdout",
     "output_type": "stream",
     "text": [
      "Carro: [\u001b[32mFusca\u001b[0m]\n",
      "Motor: [\u001b[33mMotor 1.0\u001b[0m]\n",
      "Fabri: [\u001b[34mVolkswagen\u001b[0m]\n"
     ]
    }
   ],
   "source": [
    "fusca = Carro('Fusca')\n",
    "fusca.fabricante = Fabricante('Volkswagen')\n",
    "fusca.motor = Motor('Motor 1.0')\n",
    "\n",
    "fusca.show()\n"
   ]
  },
  {
   "cell_type": "code",
   "execution_count": 202,
   "metadata": {},
   "outputs": [
    {
     "name": "stdout",
     "output_type": "stream",
     "text": [
      "Fusca V8 Volkswagen\n"
     ]
    }
   ],
   "source": [
    "fusca = Carro('Fusca')\n",
    "fusca.fabricante = Fabricante('Volkswagen')\n",
    "fusca.motor = Motor('V8')\n",
    "\n",
    "print(fusca.nome, fusca.motor.nome, fusca.fabricante.nome)"
   ]
  },
  {
   "cell_type": "raw",
   "metadata": {},
   "source": [
    "- Association - Use\n",
    "- Agregation - Has\n",
    "- Composition - Owns\n",
    "\n",
    "Herança - É um"
   ]
  },
  {
   "cell_type": "markdown",
   "metadata": {},
   "source": [
    "# `HERANÇA`"
   ]
  },
  {
   "cell_type": "markdown",
   "metadata": {},
   "source": [
    "## `Herança Simples`: "
   ]
  },
  {
   "cell_type": "code",
   "execution_count": 213,
   "metadata": {},
   "outputs": [
    {
     "name": "stdout",
     "output_type": "stream",
     "text": [
      "Class ALUNO: Olá, meu nome é Tauan Torres e eu sou um(a) Aluno\n",
      "Class PESSOA: Olá, meu nome é Kristina Torres e eu sou um(a) Cliente\n",
      "AL : 987.654.321-00\n",
      "123.456.789-00\n"
     ]
    }
   ],
   "source": [
    "class Pessoa:\n",
    "    CPF = '123.456.789-00'\n",
    "\n",
    "    def __init__(self, nome, sobrenome):\n",
    "        self.nome = nome\n",
    "        self.sobrenome = sobrenome\n",
    "\n",
    "    def introduction(self):\n",
    "        print(\"Class PESSOA: \", end=\"\")\n",
    "        print(f'Olá, meu nome é {self.nome} {self.sobrenome} e eu sou um(a) {self.__class__.__name__}')\n",
    "    \n",
    "class Cliente(Pessoa):\n",
    "    ...\n",
    "\n",
    "class Aluno(Pessoa):\n",
    "    CPF = 'AL : 987.654.321-00'\n",
    "\n",
    "    def introduction(self):\n",
    "        print(\"Class ALUNO: \", end=\"\")\n",
    "        print(f'Olá, meu nome é {self.nome} {self.sobrenome} e eu sou um(a) {self.__class__.__name__}')\n",
    "\n",
    "aluno = Aluno('Tauan', 'Torres')\n",
    "cliente = Cliente('Kristina', 'Torres')\n",
    "\n",
    "aluno.introduction()\n",
    "cliente.introduction()\n",
    "\n",
    "print(aluno.CPF)\n",
    "print(cliente.CPF)"
   ]
  },
  {
   "cell_type": "code",
   "execution_count": 207,
   "metadata": {},
   "outputs": [
    {
     "name": "stdout",
     "output_type": "stream",
     "text": [
      "Help on class Aluno in module __main__:\n",
      "\n",
      "class Aluno(Pessoa)\n",
      " |  Aluno(nome, sobrenome)\n",
      " |  \n",
      " |  Method resolution order:\n",
      " |      Aluno\n",
      " |      Pessoa\n",
      " |      builtins.object\n",
      " |  \n",
      " |  Methods inherited from Pessoa:\n",
      " |  \n",
      " |  __init__(self, nome, sobrenome)\n",
      " |      Initialize self.  See help(type(self)) for accurate signature.\n",
      " |  \n",
      " |  introduction(self)\n",
      " |  \n",
      " |  ----------------------------------------------------------------------\n",
      " |  Data descriptors inherited from Pessoa:\n",
      " |  \n",
      " |  __dict__\n",
      " |      dictionary for instance variables (if defined)\n",
      " |  \n",
      " |  __weakref__\n",
      " |      list of weak references to the object (if defined)\n",
      "\n"
     ]
    }
   ],
   "source": [
    "help(Aluno)"
   ]
  },
  {
   "cell_type": "markdown",
   "metadata": {},
   "source": [
    "## `Superposition and Sobreposition`: "
   ]
  },
  {
   "cell_type": "code",
   "execution_count": 215,
   "metadata": {},
   "outputs": [
    {
     "name": "stdout",
     "output_type": "stream",
     "text": [
      "CALL UPPER\n",
      "AFTER UPPER\n",
      "TAUAN\n"
     ]
    }
   ],
   "source": [
    "# EXAMPLE 1\n",
    "class MinhaString(str):\n",
    "    def upper(self):\n",
    "        print(\"CALL UPPER\")\n",
    "        to_return = super(MinhaString, self).upper()\n",
    "        print(\"AFTER UPPER\")\n",
    "        return to_return\n",
    "    \n",
    "s = MinhaString('tauan')\n",
    "print(s.upper())\n"
   ]
  },
  {
   "cell_type": "code",
   "execution_count": 239,
   "metadata": {},
   "outputs": [],
   "source": [
    "# EXAMPLE 2\n",
    "class A:\n",
    "    atr_a = 'This atribute exists in class A: atr_a'\n",
    "\n",
    "    def method(self):\n",
    "        print('PRINT: Method A')\n",
    "\n",
    "class B(A):\n",
    "    atr_b = 'This atribute exists in class B: atr_b'\n",
    "\n",
    "    def method(self):\n",
    "        print('PRINT: Method B')\n",
    "\n",
    "class C(B):\n",
    "    atr_c = 'This atribute exists in class C: atr_c'\n",
    "\n",
    "    def method(self):\n",
    "        print(f\"We are in the class {self.__class__.__name__}\")\n",
    "        super(C, self).method()\n",
    "        print('PRINT: Method C')\n"
   ]
  },
  {
   "cell_type": "code",
   "execution_count": 240,
   "metadata": {},
   "outputs": [
    {
     "name": "stdout",
     "output_type": "stream",
     "text": [
      "This atribute exists in class A: atr_a\n",
      "This atribute exists in class B: atr_b\n",
      "This atribute exists in class C: atr_c\n",
      "We are in the class C\n",
      "PRINT: Method B\n",
      "PRINT: Method C\n"
     ]
    }
   ],
   "source": [
    "atr = C()\n",
    "\n",
    "print(atr.atr_a)\n",
    "print(atr.atr_b)\n",
    "print(atr.atr_c)\n",
    "\n",
    "atr.method()"
   ]
  },
  {
   "cell_type": "code",
   "execution_count": 241,
   "metadata": {},
   "outputs": [],
   "source": [
    "# EXAMPLE 3\n",
    "class A:\n",
    "    atr_a = 'This atribute exists in class A: atr_a'\n",
    "\n",
    "    def method(self):\n",
    "        print('PRINT: Method A')\n",
    "\n",
    "class B(A):\n",
    "    atr_b = 'This atribute exists in class B: atr_b'\n",
    "\n",
    "    def method(self):\n",
    "        print('PRINT: Method B')\n",
    "\n",
    "class C(B):\n",
    "    atr_c = 'This atribute exists in class C: atr_c'\n",
    "\n",
    "    def method(self):\n",
    "        print(f\"We are in the class {self.__class__.__name__}\")\n",
    "        super(B, self).method() # B.method(self)\n",
    "        print('PRINT: Method C')\n"
   ]
  },
  {
   "cell_type": "code",
   "execution_count": 242,
   "metadata": {},
   "outputs": [
    {
     "name": "stdout",
     "output_type": "stream",
     "text": [
      "This atribute exists in class A: atr_a\n",
      "This atribute exists in class B: atr_b\n",
      "This atribute exists in class C: atr_c\n",
      "We are in the class C\n",
      "PRINT: Method A\n",
      "PRINT: Method C\n"
     ]
    }
   ],
   "source": [
    "atr = C()\n",
    "\n",
    "print(atr.atr_a)\n",
    "print(atr.atr_b)\n",
    "print(atr.atr_c)\n",
    "\n",
    "atr.method()"
   ]
  },
  {
   "cell_type": "code",
   "execution_count": 245,
   "metadata": {},
   "outputs": [
    {
     "name": "stdout",
     "output_type": "stream",
     "text": [
      "(<class '__main__.C'>, <class '__main__.B'>, <class '__main__.A'>, <class 'object'>)\n"
     ]
    }
   ],
   "source": [
    "print(C.__mro__)"
   ]
  },
  {
   "cell_type": "code",
   "execution_count": 255,
   "metadata": {},
   "outputs": [],
   "source": [
    "# EXAMPLE 4\n",
    "class A:\n",
    "    def __init__(self, hash):\n",
    "        self.hash = hash\n",
    "\n",
    "class B(A):\n",
    "    def __init__(self, hash, atributo):\n",
    "        super().__init__(hash)\n",
    "        self.atributo = atributo\n",
    "\n",
    "class C(B):\n",
    "\n",
    "    def __init__(self, *args, **kwargs):\n",
    "        super().__init__(*args, **kwargs)\n",
    "        "
   ]
  },
  {
   "cell_type": "code",
   "execution_count": 258,
   "metadata": {},
   "outputs": [
    {
     "name": "stdout",
     "output_type": "stream",
     "text": [
      "111.111.111-00\n",
      "Tauan\n"
     ]
    }
   ],
   "source": [
    "tauan = C('111.111.111-00', 'Tauan') \n",
    "\n",
    "print(tauan.hash)\n",
    "print(tauan.atributo)\n",
    "\n"
   ]
  },
  {
   "cell_type": "code",
   "execution_count": 284,
   "metadata": {},
   "outputs": [
    {
     "name": "stdout",
     "output_type": "stream",
     "text": [
      "Hash enviados:  111.111.111-00\n",
      "------------------------------\n",
      "Atributo enviados:  111.111.111-00\n",
      "------------------------------\n",
      "args enviados:  ('111.111.111-00',)\n",
      "kargs enviados:  {'atributo': 'Tauan'}\n",
      "------------------------------\n",
      "Hash:  111.111.111-00\n",
      "Atributo:  Tauan\n"
     ]
    }
   ],
   "source": [
    "# EXAMPLE 4\n",
    "def line():\n",
    "    print('-' * 30)\n",
    "\n",
    "class A:\n",
    "    def __init__(self, hash):\n",
    "        self.hash = hash\n",
    "        print(\"Hash enviados: \", hash)\n",
    "        line()\n",
    "\n",
    "class B(A):\n",
    "    def __init__(self, hash, atributo):\n",
    "        super().__init__(hash)\n",
    "        self.atributo = atributo\n",
    "        print(\"Atributo enviados: \", hash)\n",
    "        line()\n",
    "\n",
    "\n",
    "class C(B):\n",
    "\n",
    "    def __init__(self, *args, **kwargs):\n",
    "        super().__init__(*args, **kwargs)\n",
    "        print(\"args enviados: \", args)\n",
    "        print(\"kargs enviados: \", kwargs)\n",
    "        line()\n",
    "\n",
    "tauan = C('111.111.111-00', atributo='Tauan') \n",
    "\n",
    "print(\"Hash: \", tauan.hash)\n",
    "print(\"Atributo: \",tauan.atributo)"
   ]
  },
  {
   "cell_type": "code",
   "execution_count": 301,
   "metadata": {},
   "outputs": [
    {
     "name": "stdout",
     "output_type": "stream",
     "text": [
      "CLASSE C:\n",
      "args enviados:  ()\n",
      "kargs enviados:  {'hash': '111.111.111-00', 'atributo': 'Tauan'}\n",
      "------------------------------\n",
      "CLASSE B:\n",
      "args enviados:  ()\n",
      "kargs enviados:  {'hash': '111.111.111-00', 'atributo': 'Tauan'}\n",
      "------------------------------\n",
      "CLASSE A:\n",
      "args enviados:  ()\n",
      "kargs enviados:  {'hash': '111.111.111-00'}\n",
      "------------------------------\n",
      "111.111.111-00\n",
      "Tauan\n"
     ]
    }
   ],
   "source": [
    "# EXAMPLE 4\n",
    "def line(symbol='-', size=30):\n",
    "    print(f'{symbol}' * size)\n",
    "\n",
    "\n",
    "class A:\n",
    "    def __init__(self, *args, **kwargs):\n",
    "        print(\"CLASSE A:\")\n",
    "        print(\"args enviados: \", args)\n",
    "        print(\"kargs enviados: \", kwargs)\n",
    "\n",
    "        self.hash = kwargs['hash'] if 'hash' in kwargs else None\n",
    "        line()\n",
    "\n",
    "class B(A):\n",
    "    def __init__(self, *args, **kwargs):\n",
    "        print(\"CLASSE B:\")\n",
    "        print(\"args enviados: \", args)\n",
    "        print(\"kargs enviados: \", kwargs)\n",
    "        line()\n",
    "\n",
    "        self.atributo = kwargs['atributo'] if 'atributo' in kwargs else None\n",
    "\n",
    "        if 'atributo' in kwargs:\n",
    "            del kwargs['atributo']\n",
    "        \n",
    "        super().__init__(*args, **kwargs)\n",
    "\n",
    "\n",
    "class C(B):\n",
    "\n",
    "    def __init__(self, *args, **kwargs):\n",
    "        print(\"CLASSE C:\")\n",
    "        print(\"args enviados: \", args)\n",
    "        print(\"kargs enviados: \", kwargs)\n",
    "        line()\n",
    "\n",
    "        super().__init__(*args, **kwargs)\n",
    "\n",
    "tauan = C(hash='111.111.111-00', atributo='Tauan') \n",
    "\n",
    "print(tauan.hash)\n",
    "print(tauan.atributo)\n",
    "\n"
   ]
  },
  {
   "cell_type": "code",
   "execution_count": 288,
   "metadata": {},
   "outputs": [
    {
     "name": "stdout",
     "output_type": "stream",
     "text": [
      "{'atributo': 'Tauan'}\n"
     ]
    }
   ],
   "source": [
    "dicionario = {\n",
    "    \"hash\": \"111.111.111-00\",\n",
    "    \"atributo\": \"Tauan\"\n",
    "}\n",
    "\n",
    "# REMOVER UMA CHAVE DO DICIONÁRIO CASO ELA EXISTA\n",
    "\n",
    "if 'hash' in dicionario:\n",
    "    del dicionario['hash']\n",
    "\n",
    "print(dicionario)"
   ]
  },
  {
   "cell_type": "code",
   "execution_count": 303,
   "metadata": {},
   "outputs": [
    {
     "name": "stdout",
     "output_type": "stream",
     "text": [
      "{'id_metadata': 'dca26080-9659-4415-9317-fcf359b601f0', 'total_documents': 100, 'total_tokens': 10000, 'total_pages': 1000}\n"
     ]
    }
   ],
   "source": [
    "import uuid\n",
    "\n",
    "def generate_id():\n",
    "    return str(uuid.uuid4())\n",
    "\n",
    "class Metadata:\n",
    "\n",
    "    def __init__(self, id_metadata: str) -> None:\n",
    "        self.id_metadata:str = id_metadata\n",
    "\n",
    "class Manager(Metadata):\n",
    "\n",
    "    def __init__(self, **kwargs) -> None:\n",
    "        super().__init__(kwargs[\"id_metadata\"])\n",
    "        self.total_documents = kwargs['total_documents'] if 'total_documents' in kwargs else None \n",
    "        self.total_tokens = kwargs['total_tokens'] if 'total_tokens' in kwargs else None\n",
    "        self.total_pages = kwargs['total_pages'] if 'total_pages' in kwargs else None\n",
    "\n",
    "# TESTE 1\n",
    "manager_info = {\n",
    "    \"id_metadata\": generate_id(),\n",
    "    \"total_documents\": 100,\n",
    "    \"total_pages\": 1000,\n",
    "    \"total_tokens\": 10000\n",
    "}\n",
    "\n",
    "manager = Manager(**manager_info)\n",
    "\n",
    "print(vars(manager))"
   ]
  },
  {
   "cell_type": "code",
   "execution_count": 260,
   "metadata": {},
   "outputs": [
    {
     "name": "stdout",
     "output_type": "stream",
     "text": [
      "{'id_metadata': 'd5301b19-b002-4660-a06a-29c1f69757ff', 'total_documents': 10, 'total_tokens': 1000, 'total_pages': 100}\n"
     ]
    }
   ],
   "source": [
    "# EXAMPLE 5\n",
    "import uuid\n",
    "\n",
    "def generate_id():\n",
    "    return str(uuid.uuid4())\n",
    "\n",
    "class Metadata:\n",
    "\n",
    "    def __init__(self, id_metadata: str) -> None:\n",
    "        self.id_metadata:str = id_metadata\n",
    "\n",
    "class Manager(Metadata):\n",
    "\n",
    "    def __init__(self, id_metadata, total_documents, total_pages, total_tokens):\n",
    "\n",
    "        super().__init__(id_metadata)\n",
    "\n",
    "        self.total_documents = total_documents\n",
    "        self.total_tokens = total_tokens\n",
    "        self.total_pages = total_pages\n",
    "\n",
    "class ExtractionExpenses(Metadata):\n",
    "\n",
    "    def __init__(self, id_metadata, ocr, embedding):\n",
    "        \n",
    "        super().__init__(id_metadata)\n",
    "\n",
    "        self.embedding = embedding\n",
    "        self.ocr = ocr\n",
    "\n",
    "class UsageExpenses(Metadata):\n",
    "\n",
    "    def __init__(self, id_metadata, llm):\n",
    "\n",
    "        super().__init__(id_metadata)\n",
    "\n",
    "        self.llm = llm\n",
    "\n",
    "\n",
    "manager = Manager(generate_id(), 10, 100, 1000)\n",
    "print(vars(manager))"
   ]
  },
  {
   "cell_type": "markdown",
   "metadata": {},
   "source": [
    "## `Herança Múltipla`:\n",
    " "
   ]
  },
  {
   "cell_type": "raw",
   "metadata": {},
   "source": [
    "Herança Múltipla - Python Orientado a Objetos\n",
    "    Quer dizer que no Python, uma classe pode estender várias outras classes.\n",
    "\n",
    "Herança simples:\n",
    "    Animal -> Mamifero -> Humano -> Pessoa -> Cliente\n",
    "\n",
    "Herança múltipla e mixins:\n",
    "    Log -> FileLog\n",
    "    Animal -> Mamifero -> Humano -> Pessoa -> Cliente\n",
    "\n",
    "Cliente(Pessoa, FileLog)\n",
    "\n",
    "A, B, C, D\n",
    "D(B, C) - C(A) - B(A) - A\n",
    "\n",
    "método -> falar\n",
    "       A\n",
    "     /   \\\n",
    "    B     C\n",
    "     \\   /\n",
    "       D\n",
    "\n",
    "Python 3 usa C3 superclass linearization para gerar o mro.\n",
    "Você não precisa estudar isso (é complexo): https://en.wikipedia.org/wiki/C3_linearization\n",
    "\n",
    "Para saber a ordem de chamada dos métodos:\n",
    "    - Use o método de classe Classe.mro();\n",
    "    - Ou o atributo __mro__ (Dunder - Double Underscore);"
   ]
  },
  {
   "cell_type": "code",
   "execution_count": 304,
   "metadata": {},
   "outputs": [
    {
     "name": "stdout",
     "output_type": "stream",
     "text": [
      "Eu sou a classe D\n"
     ]
    }
   ],
   "source": [
    "# EXAMPLE 1\n",
    "class A:\n",
    "\n",
    "    def quem_eu_sou(self):\n",
    "        print(\"Eu sou a classe A\")\n",
    "\n",
    "class B(A):\n",
    "\n",
    "    def quem_eu_sou(self):\n",
    "        print(\"Eu sou a classe B\")\n",
    "\n",
    "class C(A):\n",
    "\n",
    "    def quem_eu_sou(self):\n",
    "        print(\"Eu sou a classe C\")\n",
    "\n",
    "class D(B, C):\n",
    "     \n",
    "    def quem_eu_sou(self):\n",
    "        print(\"Eu sou a classe D\")\n",
    "\n",
    "eu = D()\n",
    "eu.quem_eu_sou()\n"
   ]
  },
  {
   "cell_type": "code",
   "execution_count": 306,
   "metadata": {},
   "outputs": [
    {
     "name": "stdout",
     "output_type": "stream",
     "text": [
      "Eu sou a classe B\n"
     ]
    }
   ],
   "source": [
    "# EXAMPLE 2\n",
    "class A:\n",
    "\n",
    "    def quem_eu_sou(self):\n",
    "        print(\"Eu sou a classe A\")\n",
    "\n",
    "class B(A):\n",
    "\n",
    "    def quem_eu_sou(self):\n",
    "        print(\"Eu sou a classe B\")\n",
    "\n",
    "class C(A):\n",
    "\n",
    "    def quem_eu_sou(self):\n",
    "        print(\"Eu sou a classe C\")\n",
    "\n",
    "class D(B, C):\n",
    "    ...\n",
    "\n",
    "eu = D()\n",
    "eu.quem_eu_sou()\n"
   ]
  },
  {
   "cell_type": "code",
   "execution_count": 307,
   "metadata": {},
   "outputs": [
    {
     "name": "stdout",
     "output_type": "stream",
     "text": [
      "Eu sou a classe C\n"
     ]
    }
   ],
   "source": [
    "# EXAMPLE 3\n",
    "class A:\n",
    "\n",
    "    def quem_eu_sou(self):\n",
    "        print(\"Eu sou a classe A\")\n",
    "\n",
    "class B(A):\n",
    "    ...\n",
    "\n",
    "class C(A):\n",
    "\n",
    "    def quem_eu_sou(self):\n",
    "        print(\"Eu sou a classe C\")\n",
    "\n",
    "class D(B, C):\n",
    "    ...\n",
    "\n",
    "eu = D()\n",
    "eu.quem_eu_sou()\n"
   ]
  },
  {
   "cell_type": "code",
   "execution_count": 308,
   "metadata": {},
   "outputs": [
    {
     "name": "stdout",
     "output_type": "stream",
     "text": [
      "Eu sou a classe A\n"
     ]
    }
   ],
   "source": [
    "# EXAMPLE 4\n",
    "class A:\n",
    "\n",
    "    def quem_eu_sou(self):\n",
    "        print(\"Eu sou a classe A\")\n",
    "\n",
    "class B(A):\n",
    "    ...\n",
    "\n",
    "class C(A):\n",
    "    ...\n",
    "\n",
    "class D(B, C):\n",
    "    ...\n",
    "\n",
    "eu = D()\n",
    "eu.quem_eu_sou()\n"
   ]
  },
  {
   "cell_type": "code",
   "execution_count": 310,
   "metadata": {},
   "outputs": [
    {
     "data": {
      "text/plain": [
       "[__main__.D, __main__.B, __main__.C, __main__.A, object]"
      ]
     },
     "execution_count": 310,
     "metadata": {},
     "output_type": "execute_result"
    }
   ],
   "source": [
    "D.mro()"
   ]
  },
  {
   "cell_type": "markdown",
   "metadata": {},
   "source": [
    "## `ABSTRAÇÃO`:"
   ]
  },
  {
   "cell_type": "markdown",
   "metadata": {},
   "source": [
    "# Classes abstratas - Abstract Base Class (abc)\n",
    "---\n",
    "\n",
    "ABCs são usadas como contratos para a definição de novas classes. Elas podem forçar outras classes a criarem métodos concretos. \n",
    "\n",
    "Também podem ter métodos concretos por elas mesmas.\n",
    "\n",
    "`@abstractmethods` são métodos que não têm corpo.\n",
    "As regras para classes abstratas com métodos abstratos é que elas NÃO PODEM ser instânciadas diretamente.\n",
    "\n",
    "Métodos abstratos DEVEM ser implementados nas subclasses (`@abstractmethod`).\n",
    "Uma classe abstrata em Python tem sua metaclasse sendo ABCMeta.\n",
    "É possível criar `@property` `@setter` `@classmethod`, `@staticmethod` e `@method` como abstratos, para isso use `@abstractmethod` como decorator mais interno.\n",
    "\n"
   ]
  },
  {
   "cell_type": "code",
   "execution_count": 3,
   "metadata": {},
   "outputs": [
    {
     "name": "stdout",
     "output_type": "stream",
     "text": [
      "Success: Oi (LogPrintMixin)\n"
     ]
    }
   ],
   "source": [
    "from abc import ABC, abstractmethod\n",
    "\n",
    "\n",
    "class Log(ABC):\n",
    "    @abstractmethod\n",
    "    def _log(self, msg): ...\n",
    "\n",
    "    def log_error(self, msg):\n",
    "        return self._log(f'Error: {msg}')\n",
    "\n",
    "    def log_success(self, msg):\n",
    "        return self._log(f'Success: {msg}')\n",
    "\n",
    "\n",
    "class LogPrintMixin(Log):\n",
    "    def _log(self, msg):\n",
    "        print(f'{msg} ({self.__class__.__name__})')\n",
    "\n",
    "\n",
    "l = LogPrintMixin()\n",
    "l.log_success('Oi')\n"
   ]
  },
  {
   "cell_type": "code",
   "execution_count": 3,
   "metadata": {},
   "outputs": [
    {
     "name": "stdout",
     "output_type": "stream",
     "text": [
      "E-mail: enviando -  testando e-mail\n",
      "Notificação enviada\n",
      "SMS: enviando -  testando SMS\n",
      "Notificação NÃO enviada\n"
     ]
    }
   ],
   "source": [
    "# Polimorfismo em Python Orientado a Objetos\n",
    "# Polimorfismo é o princípio que permite que\n",
    "# classes deridavas de uma mesma superclasse\n",
    "# tenham métodos iguais (com mesma assinatura)\n",
    "# mas comportamentos diferentes.\n",
    "# Assinatura do método = Mesmo nome e quantidade\n",
    "# de parâmetros (retorno não faz parte da assinatura)\n",
    "# Opinião + princípios que contam:\n",
    "# Assinatura do método: nome, parâmetros e retorno iguais\n",
    "# SO\"L\"ID\n",
    "# Princípio da substituição de liskov\n",
    "# Objetos de uma superclasse devem ser substituíveis\n",
    "# por objetos de uma subclasse sem quebrar a aplicação.\n",
    "# Sobrecarga de métodos (overload)  🐍 = ❌\n",
    "# Sobreposição de métodos (override) 🐍 = ✅\n",
    "\n",
    "from abc import ABC, abstractmethod\n",
    "\n",
    "\n",
    "class Notificacao(ABC):\n",
    "    def __init__(self, mensagem):\n",
    "        self.mensagem = mensagem\n",
    "\n",
    "    @abstractmethod\n",
    "    def enviar(self) -> bool: ...\n",
    "\n",
    "\n",
    "class NotificacaoEmail(Notificacao):\n",
    "    def enviar(self) -> bool:\n",
    "        print('E-mail: enviando - ', self.mensagem)\n",
    "        return True\n",
    "\n",
    "\n",
    "class NotificacaoSMS(Notificacao):\n",
    "    def enviar(self) -> bool:\n",
    "        print('SMS: enviando - ', self.mensagem)\n",
    "        return False\n",
    "\n",
    "\n",
    "def notificar(notificacao: Notificacao):\n",
    "    notificacao_enviada = notificacao.enviar()\n",
    "\n",
    "    if notificacao_enviada:\n",
    "        print('Notificação enviada')\n",
    "    else:\n",
    "        print('Notificação NÃO enviada')\n",
    "\n",
    "\n",
    "notificacao_email = NotificacaoEmail('testando e-mail')\n",
    "notificar(notificacao_email)\n",
    "\n",
    "notificacao_sms = NotificacaoSMS('testando SMS')\n",
    "notificar(notificacao_sms)"
   ]
  },
  {
   "cell_type": "code",
   "execution_count": 7,
   "metadata": {},
   "outputs": [
    {
     "name": "stdout",
     "output_type": "stream",
     "text": [
      "Erro: a\n",
      "Erro: b\n",
      "Erro: c\n"
     ]
    }
   ],
   "source": [
    "# Criando Exceptions em Python Orientado a Objetos\n",
    "# Para criar uma Exception em Python, você só\n",
    "# precisa herdar de alguma exceção da linguagem.\n",
    "# A recomendação da doc é herdar de Exception.\n",
    "# https://docs.python.org/3/library/exceptions.html\n",
    "# Criando exceções (comum colocar Error ao final)\n",
    "# Levantando (raise) / Lançando (throw) exceções\n",
    "# Relançando exceções\n",
    "# Adicionando notas em exceções (3.11.0)\n",
    "class MeuError(Exception):\n",
    "    ...\n",
    "\n",
    "def levantar():\n",
    "    exception_ = MeuError('a', 'b', 'c')\n",
    "    raise exception_\n",
    "\n",
    "try:\n",
    "    levantar()\n",
    "\n",
    "except MeuError as error:\n",
    "    a = error.args[0]\n",
    "    b = error.args[1]\n",
    "    c = error.args[2]\n",
    "    print('Erro:', a)\n",
    "    print('Erro:', b)\n",
    "    print('Erro:', c)\n",
    "\n"
   ]
  },
  {
   "cell_type": "code",
   "execution_count": 8,
   "metadata": {},
   "outputs": [
    {
     "name": "stdout",
     "output_type": "stream",
     "text": [
      "Erro: ('a', 'b', 'c')\n"
     ]
    }
   ],
   "source": [
    "# Criando Exceptions em Python Orientado a Objetos\n",
    "# Para criar uma Exception em Python, você só\n",
    "# precisa herdar de alguma exceção da linguagem.\n",
    "# A recomendação da doc é herdar de Exception.\n",
    "# https://docs.python.org/3/library/exceptions.html\n",
    "# Criando exceções (comum colocar Error ao final)\n",
    "# Levantando (raise) / Lançando (throw) exceções\n",
    "# Relançando exceções\n",
    "# Adicionando notas em exceções (3.11.0)\n",
    "class MeuError(Exception):\n",
    "    ...\n",
    "\n",
    "def levantar():\n",
    "    exception_ = MeuError('a', 'b', 'c')\n",
    "    raise exception_\n",
    "\n",
    "try:\n",
    "    levantar()\n",
    "\n",
    "except MeuError as error:\n",
    "    print('Erro:', error.args)\n",
    "\n"
   ]
  },
  {
   "cell_type": "code",
   "execution_count": 39,
   "metadata": {},
   "outputs": [
    {
     "name": "stdout",
     "output_type": "stream",
     "text": [
      "[   TypeError   ] Erro: (\"levantar() missing 1 required positional argument: 'p'\",)\n",
      "[   MeuError    ] Erro: (('a', 'b', 'c'),)\n",
      "[   TeuError    ] Erro: (('x', 'y', 'z'),)\n"
     ]
    }
   ],
   "source": [
    "class MeuError(Exception):\n",
    "    ...\n",
    "\n",
    "class TeuError(Exception):\n",
    "    ...\n",
    "\n",
    "def levantar(p: bool):\n",
    "    args_true = ('a', 'b', 'c')\n",
    "    args_false = ('x', 'y', 'z')\n",
    "    if p:\n",
    "        exception_ = MeuError(args_true)\n",
    "        raise exception_\n",
    "    else:\n",
    "        exception_ = TeuError(args_false)\n",
    "        raise exception_\n",
    "\n",
    "try:\n",
    "    levantar()\n",
    "\n",
    "except (MeuError, TeuError, TypeError) as error:\n",
    "    print(f'[{error.__class__.__name__:^15}] Erro:', error.args)\n",
    "\n",
    "try:\n",
    "    levantar(p=True)\n",
    "\n",
    "except (MeuError, TeuError, TypeError) as error:\n",
    "    print(f'[{error.__class__.__name__:^15}] Erro:', error.args)\n",
    "\n",
    "try:\n",
    "    levantar(p=False)\n",
    "except (MeuError, TeuError, TypeError) as error:\n",
    "    print(f'[{error.__class__.__name__:^15}] Erro:', error.args)   \n",
    "    "
   ]
  },
  {
   "cell_type": "code",
   "execution_count": 42,
   "metadata": {},
   "outputs": [
    {
     "name": "stdout",
     "output_type": "stream",
     "text": [
      "[   MeuError    ] Erro: ('x', 'y', 'z')\n"
     ]
    },
    {
     "ename": "TeuError",
     "evalue": "Passando o erro adiante",
     "output_type": "error",
     "traceback": [
      "\u001b[0;31m---------------------------------------------------------------------------\u001b[0m",
      "\u001b[0;31mMeuError\u001b[0m                                  Traceback (most recent call last)",
      "Cell \u001b[0;32mIn[42], line 12\u001b[0m\n\u001b[1;32m     11\u001b[0m \u001b[38;5;28;01mtry\u001b[39;00m:\n\u001b[0;32m---> 12\u001b[0m     \u001b[43mlevantar\u001b[49m\u001b[43m(\u001b[49m\u001b[43m)\u001b[49m\n\u001b[1;32m     14\u001b[0m \u001b[38;5;28;01mexcept\u001b[39;00m (MeuError, \u001b[38;5;167;01mTypeError\u001b[39;00m) \u001b[38;5;28;01mas\u001b[39;00m error:\n",
      "Cell \u001b[0;32mIn[42], line 9\u001b[0m, in \u001b[0;36mlevantar\u001b[0;34m()\u001b[0m\n\u001b[1;32m      8\u001b[0m exception_ \u001b[38;5;241m=\u001b[39m MeuError(\u001b[38;5;124m'\u001b[39m\u001b[38;5;124mx\u001b[39m\u001b[38;5;124m'\u001b[39m, \u001b[38;5;124m'\u001b[39m\u001b[38;5;124my\u001b[39m\u001b[38;5;124m'\u001b[39m, \u001b[38;5;124m'\u001b[39m\u001b[38;5;124mz\u001b[39m\u001b[38;5;124m'\u001b[39m)\n\u001b[0;32m----> 9\u001b[0m \u001b[38;5;28;01mraise\u001b[39;00m exception_\n",
      "\u001b[0;31mMeuError\u001b[0m: ('x', 'y', 'z')",
      "\nThe above exception was the direct cause of the following exception:\n",
      "\u001b[0;31mTeuError\u001b[0m                                  Traceback (most recent call last)",
      "Cell \u001b[0;32mIn[42], line 17\u001b[0m\n\u001b[1;32m     15\u001b[0m \u001b[38;5;28mprint\u001b[39m(\u001b[38;5;124mf\u001b[39m\u001b[38;5;124m'\u001b[39m\u001b[38;5;124m[\u001b[39m\u001b[38;5;132;01m{\u001b[39;00merror\u001b[38;5;241m.\u001b[39m\u001b[38;5;18m__class__\u001b[39m\u001b[38;5;241m.\u001b[39m\u001b[38;5;18m__name__\u001b[39m\u001b[38;5;132;01m:\u001b[39;00m\u001b[38;5;124m^15\u001b[39m\u001b[38;5;132;01m}\u001b[39;00m\u001b[38;5;124m] Erro:\u001b[39m\u001b[38;5;124m'\u001b[39m, error\u001b[38;5;241m.\u001b[39margs)\n\u001b[1;32m     16\u001b[0m exception_ \u001b[38;5;241m=\u001b[39m TeuError(\u001b[38;5;124m'\u001b[39m\u001b[38;5;124mPassando o erro adiante\u001b[39m\u001b[38;5;124m'\u001b[39m) \n\u001b[0;32m---> 17\u001b[0m \u001b[38;5;28;01mraise\u001b[39;00m exception_ \u001b[38;5;28;01mfrom\u001b[39;00m \u001b[38;5;21;01merror\u001b[39;00m\n",
      "\u001b[0;31mTeuError\u001b[0m: Passando o erro adiante"
     ]
    }
   ],
   "source": [
    "class MeuError(Exception):\n",
    "    ...\n",
    "\n",
    "class TeuError(Exception):\n",
    "    ...\n",
    "\n",
    "def levantar():\n",
    "    exception_ = MeuError('x', 'y', 'z')\n",
    "    raise exception_\n",
    "\n",
    "try:\n",
    "    levantar()\n",
    "\n",
    "except (MeuError, TypeError) as error:\n",
    "    print(f'[{error.__class__.__name__:^15}] Erro:', error.args)\n",
    "    exception_ = TeuError('Passando o erro adiante') \n",
    "    raise exception_ from error\n"
   ]
  },
  {
   "cell_type": "code",
   "execution_count": 55,
   "metadata": {},
   "outputs": [
    {
     "name": "stdout",
     "output_type": "stream",
     "text": [
      "[MeuError]\n",
      "Erro: ('a', 'b', 'c')\n"
     ]
    },
    {
     "ename": "AttributeError",
     "evalue": "'MeuError' object has no attribute 'note'",
     "output_type": "error",
     "traceback": [
      "\u001b[0;31m---------------------------------------------------------------------------\u001b[0m",
      "\u001b[0;31mMeuError\u001b[0m                                  Traceback (most recent call last)",
      "Cell \u001b[0;32mIn[55], line 10\u001b[0m\n\u001b[1;32m      9\u001b[0m \u001b[38;5;28;01mtry\u001b[39;00m:\n\u001b[0;32m---> 10\u001b[0m     \u001b[43mlevantar\u001b[49m\u001b[43m(\u001b[49m\u001b[43m)\u001b[49m\n\u001b[1;32m     12\u001b[0m \u001b[38;5;28;01mexcept\u001b[39;00m MeuError \u001b[38;5;28;01mas\u001b[39;00m error:\n",
      "Cell \u001b[0;32mIn[55], line 7\u001b[0m, in \u001b[0;36mlevantar\u001b[0;34m()\u001b[0m\n\u001b[1;32m      6\u001b[0m exception_\u001b[38;5;241m.\u001b[39madd_note(\u001b[38;5;124m'\u001b[39m\u001b[38;5;124mAdicionando uma nota\u001b[39m\u001b[38;5;124m'\u001b[39m)\n\u001b[0;32m----> 7\u001b[0m \u001b[38;5;28;01mraise\u001b[39;00m exception_\n",
      "\u001b[0;31mMeuError\u001b[0m: ('a', 'b', 'c')",
      "\u001b[0mAdicionando uma nota",
      "\nDuring handling of the above exception, another exception occurred:\n",
      "\u001b[0;31mAttributeError\u001b[0m                            Traceback (most recent call last)",
      "Cell \u001b[0;32mIn[55], line 15\u001b[0m\n\u001b[1;32m     13\u001b[0m \u001b[38;5;28mprint\u001b[39m(\u001b[38;5;124mf\u001b[39m\u001b[38;5;124m'\u001b[39m\u001b[38;5;124m[\u001b[39m\u001b[38;5;132;01m{\u001b[39;00merror\u001b[38;5;241m.\u001b[39m\u001b[38;5;18m__class__\u001b[39m\u001b[38;5;241m.\u001b[39m\u001b[38;5;18m__name__\u001b[39m\u001b[38;5;132;01m}\u001b[39;00m\u001b[38;5;124m]\u001b[39m\u001b[38;5;124m'\u001b[39m)\n\u001b[1;32m     14\u001b[0m \u001b[38;5;28mprint\u001b[39m(\u001b[38;5;124m'\u001b[39m\u001b[38;5;124mErro:\u001b[39m\u001b[38;5;124m'\u001b[39m, error\u001b[38;5;241m.\u001b[39margs)\n\u001b[0;32m---> 15\u001b[0m \u001b[38;5;28mprint\u001b[39m(\u001b[38;5;124m'\u001b[39m\u001b[38;5;124mNota:\u001b[39m\u001b[38;5;124m'\u001b[39m, \u001b[43merror\u001b[49m\u001b[38;5;241;43m.\u001b[39;49m\u001b[43mnote\u001b[49m)\n",
      "\u001b[0;31mAttributeError\u001b[0m: 'MeuError' object has no attribute 'note'"
     ]
    }
   ],
   "source": [
    "class MeuError(Exception):\n",
    "    ...\n",
    "\n",
    "def levantar():\n",
    "    exception_ = MeuError('a', 'b', 'c')\n",
    "    exception_.add_note('Adicionando uma nota')\n",
    "    raise exception_\n",
    "\n",
    "try:\n",
    "    levantar()\n",
    "\n",
    "except MeuError as error:\n",
    "    print(f'[{error.__class__.__name__}]')\n",
    "    print('Erro:', error.args)\n",
    "    print('Nota:', error.note)\n",
    "\n"
   ]
  },
  {
   "cell_type": "markdown",
   "metadata": {},
   "source": [
    "# `MAGIC METHODS`:"
   ]
  },
  {
   "cell_type": "code",
   "execution_count": 60,
   "metadata": {},
   "outputs": [
    {
     "name": "stdout",
     "output_type": "stream",
     "text": [
      "(1, 2)\n",
      "Ponto(x=978, y=876, z='String')\n",
      "Ponto(x=978, y=876, z='String')\n"
     ]
    }
   ],
   "source": [
    "# Teoria: python Special Methods, Magic Methods ou Dunder Methods\n",
    "# Dunder = Double Underscore = __dunder__\n",
    "# Antigo e útil: https://rszalski.github.io/magicmethods/\n",
    "# https://docs.python.org/3/reference/datamodel.html#specialnames\n",
    "# __lt__(self,other) - self < other\n",
    "# __le__(self,other) - self <= other\n",
    "# __gt__(self,other) - self > other\n",
    "# __ge__(self,other) - self >= other\n",
    "# __eq__(self,other) - self == other\n",
    "# __ne__(self,other) - self != other\n",
    "# __add__(self,other) - self + other\n",
    "# __sub__(self,other) - self - other\n",
    "# __mul__(self,other) - self * other\n",
    "# __truediv__(self,other) - self / other\n",
    "# __neg__(self) - -self\n",
    "# __str__(self) - str\n",
    "# __repr__(self) - str\n",
    "class Ponto:\n",
    "    def __init__(self, x, y, z='String'):\n",
    "        self.x = x\n",
    "        self.y = y\n",
    "        self.z = z\n",
    "\n",
    "    def __str__(self):\n",
    "        return f'({self.x}, {self.y})'\n",
    "\n",
    "    def __repr__(self):\n",
    "        # class_name = self.__class__.__name__\n",
    "        class_name = type(self).__name__\n",
    "        return f'{class_name}(x={self.x!r}, y={self.y!r}, z={self.z!r})'\n",
    "\n",
    "\n",
    "p1 = Ponto(1, 2)\n",
    "p2 = Ponto(978, 876)\n",
    "print(p1)\n",
    "print(repr(p2))\n",
    "print(f'{p2!r}')"
   ]
  },
  {
   "cell_type": "code",
   "execution_count": 57,
   "metadata": {},
   "outputs": [
    {
     "name": "stdout",
     "output_type": "stream",
     "text": [
      "(1, 2)\n",
      "(3, 4)\n",
      "(4, 6)\n"
     ]
    }
   ],
   "source": [
    "class Ponto:\n",
    "    def __init__(self, x, y):\n",
    "        self.x = x\n",
    "        self.y = y\n",
    "\n",
    "    def __str__(self):\n",
    "        return f'({self.x}, {self.y})'\n",
    "\n",
    "    def __repr__(self):\n",
    "        return f'Ponto({self.x}, {self.y})'\n",
    "\n",
    "    def __add__(self, other):\n",
    "        x = self.x + other.x\n",
    "        y = self.y + other.y\n",
    "        return Ponto(x, y)\n",
    "    \n",
    "    def __sub__(self, other):\n",
    "\n",
    "        x = self.x - other.x\n",
    "        y = self.y - other.y\n",
    "        return Ponto(x, y)\n",
    "    \n",
    "\n",
    "\n",
    "p1 = Ponto(1, 2)\n",
    "p2 = Ponto(3, 4)\n",
    "\n",
    "print(p1)\n",
    "print(p2)\n",
    "\n",
    "print(p1 + p2)"
   ]
  },
  {
   "cell_type": "code",
   "execution_count": 59,
   "metadata": {},
   "outputs": [
    {
     "name": "stdout",
     "output_type": "stream",
     "text": [
      "(1, 2)\n",
      "Ponto(1, 2)\n",
      "Ponto(1, 2)\n",
      "(1, 2)\n"
     ]
    }
   ],
   "source": [
    "class Ponto:\n",
    "    def __init__(self, x, y):\n",
    "        self.x = x\n",
    "        self.y = y\n",
    "\n",
    "    def __str__(self):\n",
    "        return f'({self.x}, {self.y})'\n",
    "\n",
    "    def __repr__(self):\n",
    "        return f'Ponto({self.x}, {self.y})'\n",
    "    \n",
    "\n",
    "\n",
    "p = Ponto(1, 2)\n",
    "\n",
    "print(p)\n",
    "print(repr(p))\n",
    "print(f\"{p!r}\")\n",
    "print(f\"{p!s}\")"
   ]
  },
  {
   "cell_type": "code",
   "execution_count": 61,
   "metadata": {},
   "outputs": [
    {
     "name": "stdout",
     "output_type": "stream",
     "text": [
      "(1, 2)\n",
      "(3, 4)\n",
      "(4, 6)\n",
      "False\n"
     ]
    }
   ],
   "source": [
    "class Ponto:\n",
    "    def __init__(self, x:int, y:int) -> None:\n",
    "        self.x = x\n",
    "        self.y = y\n",
    "\n",
    "    def __str__(self):\n",
    "        return f'({self.x}, {self.y})'\n",
    "\n",
    "    def __repr__(self):\n",
    "        return f'Ponto(x={self.x}, y={self.y})'\n",
    "    \n",
    "    def __add__(self, other):\n",
    "        x = self.x + other.x\n",
    "        y = self.y + other.y\n",
    "        return Ponto(x, y)\n",
    "    \n",
    "    def __gt__(self, other):\n",
    "        return (self.x + self.y) > (other.x + other.y)\n",
    "    \n",
    "p1 = Ponto(1, 2)\n",
    "p2 = Ponto(3, 4)\n",
    "\n",
    "print(p1)\n",
    "print(p2)\n",
    "\n",
    "print(p1 + p2)\n",
    "\n",
    "print(p1 > p2)\n"
   ]
  },
  {
   "cell_type": "code",
   "execution_count": null,
   "metadata": {},
   "outputs": [],
   "source": []
  }
 ],
 "metadata": {
  "kernelspec": {
   "display_name": "Python 3",
   "language": "python",
   "name": "python3"
  },
  "language_info": {
   "codemirror_mode": {
    "name": "ipython",
    "version": 3
   },
   "file_extension": ".py",
   "mimetype": "text/x-python",
   "name": "python",
   "nbconvert_exporter": "python",
   "pygments_lexer": "ipython3",
   "version": "3.11.4"
  }
 },
 "nbformat": 4,
 "nbformat_minor": 2
}
